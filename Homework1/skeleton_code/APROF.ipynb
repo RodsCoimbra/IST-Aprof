{
 "cells": [
  {
   "cell_type": "code",
   "execution_count": 1,
   "metadata": {},
   "outputs": [
    {
     "name": "stderr",
     "output_type": "stream",
     "text": [
      "2023-12-13 11:13:31.653888: I tensorflow/core/platform/cpu_feature_guard.cc:193] This TensorFlow binary is optimized with oneAPI Deep Neural Network Library (oneDNN) to use the following CPU instructions in performance-critical operations:  SSE4.1 SSE4.2 AVX AVX2 FMA\n",
      "To enable them in other operations, rebuild TensorFlow with the appropriate compiler flags.\n"
     ]
    }
   ],
   "source": [
    "import numpy as np\n",
    "import matplotlib.pyplot as plt\n",
    "import tensorflow as tf\n",
    "from keras.models import Sequential\n",
    "from keras.callbacks import EarlyStopping\n",
    "from keras.layers import Dense, Convolution2D, MaxPooling2D, Flatten, Dropout, Concatenate\n",
    "import keras.optimizers as keras\n",
    "from keras.optimizers import Adam\n",
    "from keras.utils import to_categorical\n",
    "import tensorflow as tf\n",
    "from keras import backend as K\n",
    "from keras.callbacks import LearningRateScheduler\n",
    "import utils\n",
    "from keras.regularizers import L2"
   ]
  },
  {
   "cell_type": "markdown",
   "metadata": {},
   "source": [
    "Dados"
   ]
  },
  {
   "cell_type": "code",
   "execution_count": 2,
   "metadata": {},
   "outputs": [
    {
     "data": {
      "text/plain": [
       "((97477, 784), (97477, 4), (10832, 784), (10832, 4))"
      ]
     },
     "execution_count": 2,
     "metadata": {},
     "output_type": "execute_result"
    }
   ],
   "source": [
    "data = utils.load_oct_data()\n",
    "X_train, Y_train = data[\"train\"]\n",
    "X_val, Y_val = data[\"dev\"]\n",
    "X_test, Y_test = data[\"test\"]\n",
    "Y_train = to_categorical(Y_train,4)\n",
    "Y_val = to_categorical(Y_val,4)\n",
    "#X_train = X_train.reshape(-1,1)\n",
    "X_train.shape, Y_train.shape, X_val.shape, Y_val.shape"
   ]
  },
  {
   "cell_type": "markdown",
   "metadata": {},
   "source": [
    "QUESTÃO 1"
   ]
  },
  {
   "cell_type": "code",
   "execution_count": 4,
   "metadata": {},
   "outputs": [
    {
     "name": "stdout",
     "output_type": "stream",
     "text": [
      "Model: \"sequential\"\n",
      "_________________________________________________________________\n",
      " Layer (type)                Output Shape              Param #   \n",
      "=================================================================\n",
      " dense (Dense)               (None, 16)                12560     \n",
      "                                                                 \n",
      " dense_1 (Dense)             (None, 4)                 68        \n",
      "                                                                 \n",
      "=================================================================\n",
      "Total params: 12,628\n",
      "Trainable params: 12,628\n",
      "Non-trainable params: 0\n",
      "_________________________________________________________________\n"
     ]
    },
    {
     "ename": "TypeError",
     "evalue": "fit() got an unexpected keyword argument 'n_jobs'",
     "output_type": "error",
     "traceback": [
      "\u001b[0;31m---------------------------------------------------------------------------\u001b[0m",
      "\u001b[0;31mTypeError\u001b[0m                                 Traceback (most recent call last)",
      "Cell \u001b[0;32mIn[4], line 7\u001b[0m\n\u001b[1;32m      5\u001b[0m Modelo1\u001b[38;5;241m.\u001b[39mcompile(loss\u001b[38;5;241m=\u001b[39m\u001b[38;5;124m'\u001b[39m\u001b[38;5;124mcategorical_crossentropy\u001b[39m\u001b[38;5;124m'\u001b[39m, optimizer\u001b[38;5;241m=\u001b[39motimizer,metrics\u001b[38;5;241m=\u001b[39m[\u001b[38;5;124m'\u001b[39m\u001b[38;5;124maccuracy\u001b[39m\u001b[38;5;124m'\u001b[39m])\n\u001b[1;32m      6\u001b[0m Modelo1\u001b[38;5;241m.\u001b[39msummary()\n\u001b[0;32m----> 7\u001b[0m Resultado \u001b[38;5;241m=\u001b[39m \u001b[43mModelo1\u001b[49m\u001b[38;5;241;43m.\u001b[39;49m\u001b[43mfit\u001b[49m\u001b[43m(\u001b[49m\u001b[43mx\u001b[49m\u001b[38;5;241;43m=\u001b[39;49m\u001b[43mX_train\u001b[49m\u001b[43m,\u001b[49m\u001b[43m \u001b[49m\u001b[43my\u001b[49m\u001b[38;5;241;43m=\u001b[39;49m\u001b[43mY_train\u001b[49m\u001b[43m,\u001b[49m\u001b[43m \u001b[49m\u001b[43mepochs\u001b[49m\u001b[38;5;241;43m=\u001b[39;49m\u001b[38;5;241;43m20\u001b[39;49m\u001b[43m,\u001b[49m\u001b[43m \u001b[49m\u001b[43mvalidation_data\u001b[49m\u001b[38;5;241;43m=\u001b[39;49m\u001b[43m(\u001b[49m\u001b[43mX_val\u001b[49m\u001b[43m,\u001b[49m\u001b[43m \u001b[49m\u001b[43mY_val\u001b[49m\u001b[43m)\u001b[49m\u001b[43m,\u001b[49m\u001b[43m \u001b[49m\u001b[43mbatch_size\u001b[49m\u001b[38;5;241;43m=\u001b[39;49m\u001b[38;5;241;43m16\u001b[39;49m\u001b[43m,\u001b[49m\u001b[43m \u001b[49m\u001b[43mn_jobs\u001b[49m\u001b[38;5;241;43m=\u001b[39;49m\u001b[38;5;241;43m-\u001b[39;49m\u001b[38;5;241;43m1\u001b[39;49m\u001b[43m)\u001b[49m\n\u001b[1;32m      8\u001b[0m K\u001b[38;5;241m.\u001b[39mclear_session()\n\u001b[1;32m      9\u001b[0m plotValLoss \u001b[38;5;241m=\u001b[39m Resultado\u001b[38;5;241m.\u001b[39mhistory[\u001b[38;5;124m'\u001b[39m\u001b[38;5;124mval_loss\u001b[39m\u001b[38;5;124m'\u001b[39m]\n",
      "File \u001b[0;32m~/miniconda3/envs/IST_DL21_Env/lib/python3.8/site-packages/keras/utils/traceback_utils.py:70\u001b[0m, in \u001b[0;36mfilter_traceback.<locals>.error_handler\u001b[0;34m(*args, **kwargs)\u001b[0m\n\u001b[1;32m     67\u001b[0m     filtered_tb \u001b[38;5;241m=\u001b[39m _process_traceback_frames(e\u001b[38;5;241m.\u001b[39m__traceback__)\n\u001b[1;32m     68\u001b[0m     \u001b[38;5;66;03m# To get the full stack trace, call:\u001b[39;00m\n\u001b[1;32m     69\u001b[0m     \u001b[38;5;66;03m# `tf.debugging.disable_traceback_filtering()`\u001b[39;00m\n\u001b[0;32m---> 70\u001b[0m     \u001b[38;5;28;01mraise\u001b[39;00m e\u001b[38;5;241m.\u001b[39mwith_traceback(filtered_tb) \u001b[38;5;28;01mfrom\u001b[39;00m \u001b[38;5;28;01mNone\u001b[39;00m\n\u001b[1;32m     71\u001b[0m \u001b[38;5;28;01mfinally\u001b[39;00m:\n\u001b[1;32m     72\u001b[0m     \u001b[38;5;28;01mdel\u001b[39;00m filtered_tb\n",
      "File \u001b[0;32m~/miniconda3/envs/IST_DL21_Env/lib/python3.8/site-packages/keras/utils/traceback_utils.py:65\u001b[0m, in \u001b[0;36mfilter_traceback.<locals>.error_handler\u001b[0;34m(*args, **kwargs)\u001b[0m\n\u001b[1;32m     63\u001b[0m filtered_tb \u001b[38;5;241m=\u001b[39m \u001b[38;5;28;01mNone\u001b[39;00m\n\u001b[1;32m     64\u001b[0m \u001b[38;5;28;01mtry\u001b[39;00m:\n\u001b[0;32m---> 65\u001b[0m     \u001b[38;5;28;01mreturn\u001b[39;00m fn(\u001b[38;5;241m*\u001b[39margs, \u001b[38;5;241m*\u001b[39m\u001b[38;5;241m*\u001b[39mkwargs)\n\u001b[1;32m     66\u001b[0m \u001b[38;5;28;01mexcept\u001b[39;00m \u001b[38;5;167;01mException\u001b[39;00m \u001b[38;5;28;01mas\u001b[39;00m e:\n\u001b[1;32m     67\u001b[0m     filtered_tb \u001b[38;5;241m=\u001b[39m _process_traceback_frames(e\u001b[38;5;241m.\u001b[39m__traceback__)\n",
      "\u001b[0;31mTypeError\u001b[0m: fit() got an unexpected keyword argument 'n_jobs'"
     ]
    }
   ],
   "source": [
    "otimizer = keras.SGD(learning_rate=0.001)\n",
    "Modelo1 = Sequential()\n",
    "Modelo1.add(Dense(16, input_dim=784, activation='relu'))\n",
    "Modelo1.add(Dense(4,activation='softmax'))\n",
    "Modelo1.compile(loss='categorical_crossentropy', optimizer=otimizer,metrics=['accuracy'])\n",
    "Modelo1.summary()\n",
    "Resultado = Modelo1.fit(x=X_train, y=Y_train, epochs=20, validation_data=(X_val, Y_val), batch_size=16)\n",
    "K.clear_session()\n",
    "plotValLoss = Resultado.history['val_loss']\n",
    "plotLoss = Resultado.history['loss']\n",
    "plt.plot(plotValLoss)\n",
    "plt.plot(plotLoss)\n",
    "plt.xlabel('Epochs')\n",
    "plt.ylabel('Loss')\n",
    "plt.legend(['Train', 'Validation'])\n",
    "plt.show()"
   ]
  },
  {
   "cell_type": "code",
   "execution_count": null,
   "metadata": {},
   "outputs": [],
   "source": [
    "\n",
    "Modelo1 = Sequential()\n",
    "Modelo1.add(Dense(16, input_shape=(784,), activation='relu'))\n",
    "Modelo1.add(Dense(4,activation='softmax'))\n",
    "Modelo1.compile(optimizer=keras.SGD(learning_rate=0.01), loss='categorical_crossentropy', metrics=['accuracy'])\n",
    "Resultado = Modelo1.fit(x=X_train, y=Y_train, epochs=20, validation_data=(X_val, Y_val), verbose=2, batch_size=16)\n",
    "K.clear_session()\n",
    "plotValLoss = Resultado.history['val_loss']\n",
    "plotLoss = Resultado.history['loss']\n",
    "plt.plot(plotValLoss)\n",
    "plt.plot(plotValLoss)\n",
    "plt.xlabel('Epochs')\n",
    "plt.ylabel('Loss')\n",
    "plt.legend(['Train', 'Validation'])\n",
    "plt.show()"
   ]
  },
  {
   "cell_type": "code",
   "execution_count": null,
   "metadata": {},
   "outputs": [],
   "source": [
    "Modelo1 = Sequential()\n",
    "Modelo1.add(Dense(16, input_shape=(784,), activation='relu'))\n",
    "Modelo1.add(Dense(4,activation='softmax'))\n",
    "Modelo1.compile(optimizer=keras.SGD(lr=0.1), loss='categorical_crossentropy', metrics=['accuracy'])\n",
    "Resultado = Modelo1.fit(x=X_train, y=Y_train, epochs=20, validation_data=(X_val, Y_val), verbose=2, batch_size=16)\n",
    "K.clear_session()\n",
    "plotValLoss = Resultado.history['val_loss']\n",
    "plotLoss = Resultado.history['loss']\n",
    "plt.plot(plotValLoss)\n",
    "plt.plot(plotValLoss)\n",
    "plt.xlabel('Epochs')\n",
    "plt.ylabel('Loss')\n",
    "plt.legend(['Train', 'Validation'])\n",
    "plt.show()"
   ]
  },
  {
   "cell_type": "markdown",
   "metadata": {},
   "source": [
    "Questão 2 A)"
   ]
  },
  {
   "cell_type": "code",
   "execution_count": null,
   "metadata": {},
   "outputs": [],
   "source": [
    "Modelo1 = Sequential()\n",
    "Modelo1.add(Dense(200, input_shape=(784,), activation='relu'))\n",
    "Modelo1.add(Dropout(0.0))\n",
    "Modelo1.add(Dense(4,activation='softmax'))\n",
    "Modelo1.compile(optimizer=keras.SGD(lr=0.1), loss='categorical_crossentropy', metrics=['accuracy'])\n",
    "Resultado = Modelo1.fit(x=X_train, y=Y_train, epochs=20, validation_data=(X_val, Y_val), verbose=2, batch_size=16)\n",
    "K.clear_session()\n",
    "plotValLoss = Resultado.history['val_loss']\n",
    "plotLoss = Resultado.history['loss']\n",
    "plt.plot(plotValLoss)\n",
    "plt.plot(plotValLoss)\n",
    "plt.xlabel('Epochs')\n",
    "plt.ylabel('Loss')\n",
    "plt.legend(['Train', 'Validation'])\n",
    "plt.show()"
   ]
  },
  {
   "cell_type": "code",
   "execution_count": null,
   "metadata": {},
   "outputs": [],
   "source": [
    "Modelo1 = Sequential()\n",
    "Modelo1.add(Dense(200, input_shape=(784,), activation='relu'))\n",
    "Modelo1.add(Dropout(0.0))\n",
    "Modelo1.add(Dense(4,activation='softmax'))\n",
    "Modelo1.compile(optimizer=keras.SGD(lr=0.1), loss='categorical_crossentropy', metrics=['accuracy'])\n",
    "Resultado = Modelo1.fit(x=X_train, y=Y_train, epochs=20, validation_data=(X_val, Y_val), verbose=2, batch_size=1024)\n",
    "K.clear_session()\n",
    "plotValLoss = Resultado.history['val_loss']\n",
    "plotLoss = Resultado.history['loss']\n",
    "plt.plot(plotValLoss)\n",
    "plt.plot(plotValLoss)\n",
    "plt.xlabel('Epochs')\n",
    "plt.ylabel('Loss')\n",
    "plt.legend(['Train', 'Validation'])\n",
    "plt.show()"
   ]
  },
  {
   "cell_type": "markdown",
   "metadata": {},
   "source": [
    "Questão 2 B)"
   ]
  },
  {
   "cell_type": "code",
   "execution_count": null,
   "metadata": {},
   "outputs": [],
   "source": [
    "Modelo1 = Sequential()\n",
    "Modelo1.add(Dense(200, input_shape=(784,), activation='relu'))\n",
    "Modelo1.add(Dropout(0.0))\n",
    "Modelo1.add(Dense(4,activation='softmax'))\n",
    "Modelo1.compile(optimizer=keras.SGD(lr=1), loss='categorical_crossentropy', metrics=['accuracy'])\n",
    "Resultado = Modelo1.fit(x=X_train, y=Y_train, epochs=20, validation_data=(X_val, Y_val), verbose=2, batch_size=16)\n",
    "K.clear_session()\n",
    "plotValLoss = Resultado.history['val_loss']\n",
    "plotLoss = Resultado.history['loss']\n",
    "plt.plot(plotValLoss)\n",
    "plt.plot(plotValLoss)\n",
    "plt.xlabel('Epochs')\n",
    "plt.ylabel('Loss')\n",
    "plt.legend(['Train', 'Validation'])\n",
    "plt.show()"
   ]
  },
  {
   "cell_type": "code",
   "execution_count": null,
   "metadata": {},
   "outputs": [],
   "source": [
    "Modelo1 = Sequential()\n",
    "Modelo1.add(Dense(200, input_shape=(784,), activation='relu'))\n",
    "Modelo1.add(Dropout(0.0))\n",
    "Modelo1.add(Dense(4,activation='softmax'))\n",
    "Modelo1.compile(optimizer=keras.SGD(lr=0.1), loss='categorical_crossentropy', metrics=['accuracy'])\n",
    "Resultado = Modelo1.fit(x=X_train, y=Y_train, epochs=20, validation_data=(X_val, Y_val), verbose=2, batch_size=16)\n",
    "K.clear_session()\n",
    "plotValLoss = Resultado.history['val_loss']\n",
    "plotLoss = Resultado.history['loss']\n",
    "plt.plot(plotValLoss)\n",
    "plt.plot(plotValLoss)\n",
    "plt.xlabel('Epochs')\n",
    "plt.ylabel('Loss')\n",
    "plt.legend(['Train', 'Validation'])\n",
    "plt.show()"
   ]
  },
  {
   "cell_type": "code",
   "execution_count": null,
   "metadata": {},
   "outputs": [],
   "source": [
    "Modelo1 = Sequential()\n",
    "Modelo1.add(Dense(200, input_shape=(784,), activation='relu'))\n",
    "Modelo1.add(Dropout(0.0))\n",
    "Modelo1.add(Dense(4,activation='softmax'))\n",
    "Modelo1.compile(optimizer=keras.SGD(lr=0.01), loss='categorical_crossentropy', metrics=['accuracy'])\n",
    "Resultado = Modelo1.fit(x=X_train, y=Y_train, epochs=20, validation_data=(X_val, Y_val), verbose=2, batch_size=16)\n",
    "K.clear_session()\n",
    "plotValLoss = Resultado.history['val_loss']\n",
    "plotLoss = Resultado.history['loss']\n",
    "plt.plot(plotValLoss)\n",
    "plt.plot(plotValLoss)\n",
    "plt.xlabel('Epochs')\n",
    "plt.ylabel('Loss')\n",
    "plt.legend(['Train', 'Validation'])\n",
    "plt.show()"
   ]
  },
  {
   "cell_type": "code",
   "execution_count": null,
   "metadata": {},
   "outputs": [],
   "source": [
    "Modelo1 = Sequential()\n",
    "Modelo1.add(Dense(200, input_shape=(784,), activation='relu'))\n",
    "Modelo1.add(Dropout(0.0))\n",
    "Modelo1.add(Dense(4,activation='softmax'))\n",
    "Modelo1.compile(optimizer=keras.SGD(lr=0.001), loss='categorical_crossentropy', metrics=['accuracy'])\n",
    "Resultado = Modelo1.fit(x=X_train, y=Y_train, epochs=20, validation_data=(X_val, Y_val), verbose=2, batch_size=16)\n",
    "K.clear_session()\n",
    "plotValLoss = Resultado.history['val_loss']\n",
    "plotLoss = Resultado.history['loss']\n",
    "plt.plot(plotValLoss)\n",
    "plt.plot(plotValLoss)\n",
    "plt.xlabel('Epochs')\n",
    "plt.ylabel('Loss')\n",
    "plt.legend(['Train', 'Validation'])\n",
    "plt.show()"
   ]
  },
  {
   "cell_type": "markdown",
   "metadata": {},
   "source": [
    "Q2C"
   ]
  },
  {
   "cell_type": "code",
   "execution_count": null,
   "metadata": {},
   "outputs": [],
   "source": [
    "Modelo1 = Sequential()\n",
    "Modelo1.add(Dense(200, input_shape=(784,), activation='relu'))\n",
    "Modelo1.add(Dropout(0.0))\n",
    "Modelo1.add(Dense(4,activation='softmax'))\n",
    "Modelo1.compile(optimizer=keras.SGD(lr=0.1), loss='categorical_crossentropy', metrics=['accuracy'])\n",
    "Resultado = Modelo1.fit(x=X_train, y=Y_train, epochs=150, validation_data=(X_val, Y_val), verbose=2, batch_size=256)\n",
    "K.clear_session()\n",
    "plotValLoss = Resultado.history['val_loss']\n",
    "plotLoss = Resultado.history['loss']\n",
    "plt.plot(plotValLoss)\n",
    "plt.plot(plotValLoss)\n",
    "plt.xlabel('Epochs')\n",
    "plt.ylabel('Loss')\n",
    "plt.legend(['Train', 'Validation'])\n",
    "plt.show()"
   ]
  },
  {
   "cell_type": "code",
   "execution_count": null,
   "metadata": {},
   "outputs": [],
   "source": [
    "L2(l2= 0.0001)\n",
    "Modelo1 = Sequential()\n",
    "Modelo1.add(Dense(200, input_shape=(784,), activation='relu', kernel_regularizer='l2'))\n",
    "Modelo1.add(Dropout(0.0))\n",
    "Modelo1.add(Dense(4,activation='softmax'))\n",
    "Modelo1.compile(optimizer=keras.SGD(lr=0.1), loss='categorical_crossentropy', metrics=['accuracy'])\n",
    "Resultado = Modelo1.fit(x=X_train, y=Y_train, epochs=150, validation_data=(X_val, Y_val), verbose=2, batch_size=256)\n",
    "K.clear_session()\n",
    "plotValLoss = Resultado.history['val_loss']\n",
    "plotLoss = Resultado.history['loss']\n",
    "plt.plot(plotValLoss)\n",
    "plt.plot(plotValLoss)\n",
    "plt.xlabel('Epochs')\n",
    "plt.ylabel('Loss')\n",
    "plt.legend(['Train', 'Validation'])\n",
    "plt.show()"
   ]
  },
  {
   "cell_type": "code",
   "execution_count": null,
   "metadata": {},
   "outputs": [],
   "source": [
    "Modelo1 = Sequential()\n",
    "Modelo1.add(Dense(200, input_shape=(784,), activation='relu'))\n",
    "Modelo1.add(Dropout(0.2))\n",
    "Modelo1.add(Dense(4,activation='softmax'))\n",
    "Modelo1.compile(optimizer=keras.SGD(lr=0.1), loss='categorical_crossentropy', metrics=['accuracy'])\n",
    "Resultado = Modelo1.fit(x=X_train, y=Y_train, epochs=150, validation_data=(X_val, Y_val), verbose=2, batch_size=256)\n",
    "K.clear_session()\n",
    "plotValLoss = Resultado.history['val_loss']\n",
    "plotLoss = Resultado.history['loss']\n",
    "plt.plot(plotValLoss)\n",
    "plt.plot(plotValLoss)\n",
    "plt.xlabel('Epochs')\n",
    "plt.ylabel('Loss')\n",
    "plt.legend(['Train', 'Validation'])\n",
    "plt.show()"
   ]
  }
 ],
 "metadata": {
  "kernelspec": {
   "display_name": "Python 3",
   "language": "python",
   "name": "python3"
  },
  "language_info": {
   "codemirror_mode": {
    "name": "ipython",
    "version": 3
   },
   "file_extension": ".py",
   "mimetype": "text/x-python",
   "name": "python",
   "nbconvert_exporter": "python",
   "pygments_lexer": "ipython3",
   "version": "3.8.12"
  }
 },
 "nbformat": 4,
 "nbformat_minor": 2
}
