{
 "cells": [
  {
   "cell_type": "code",
   "execution_count": 13,
   "metadata": {},
   "outputs": [
    {
     "data": {
      "text/plain": [
       "[<matplotlib.lines.Line2D at 0x7f48e5ac7670>]"
      ]
     },
     "execution_count": 13,
     "metadata": {},
     "output_type": "execute_result"
    },
    {
     "data": {
      "image/png": "[encoded data removed]",
      "text/plain": [
       "<Figure size 640x480 with 1 Axes>"
      ]
     },
     "metadata": {},
     "output_type": "display_data"
    }
   ],
   "source": [
    "import matplotlib.pyplot as plt\n",
    "from numpy import linspace\n",
    "\n",
    "plt.scatter(1,1, c='r', marker='o')\n",
    "plt.scatter(-1,1, c='g', marker='o')\n",
    "plt.scatter(1,-1, c='g', marker='o')\n",
    "plt.scatter(-1,-1, c='r', marker='o')\n",
    "plt.axvline(x=0, c=\"black\")\n",
    "plt.axhline(y=0, c=\"black\")\n",
    "plt.xlim([-2,2])\n",
    "plt.ylim([-2,2])\n",
    "x = linspace(-2,2,10)\n",
    "y = -x - 1\n",
    "plt.plot(x,y, c = 'g')\n",
    "plt.plot(x, y + 2, c= 'g')"
   ]
  },
  {
   "cell_type": "markdown",
   "metadata": {},
   "source": [
    "# 3b - SIGN"
   ]
  },
  {
   "cell_type": "markdown",
   "metadata": {},
   "source": [
    "$signal_1 = sign(X_1\\times W^{(1)}_{11} + X_2\\times W^{(1)}_{12} + B^{(1)}_{1})$\n",
    "\n",
    "$signal_2 = sign(X_1\\times W^{(1)}_{21} + X_2\\times W^{(1)}_{22} + B^{(1)}_{2})$  \n",
    "\n",
    "$output = sign(signal_1 \\times W^{(2)}_{11} + signal_2 \\times W^{(2)}_{12} + B^{(2)})$"
   ]
  },
  {
   "cell_type": "code",
   "execution_count": 69,
   "metadata": {},
   "outputs": [
    {
     "name": "stdout",
     "output_type": "stream",
     "text": [
      "--------------------------------------------------------------\n",
      "X1:  -1 |\tX2:  -1 |\tSignal1:  1 |\tSignal2:  -1 |\tOutput:  -1\n",
      "X1:  -1 |\tX2:  1 |\tSignal1:  1 |\tSignal2:  1 |\tOutput:  1\n",
      "X1:  1 |\tX2:  -1 |\tSignal1:  1 |\tSignal2:  1 |\tOutput:  1\n",
      "X1:  1 |\tX2:  1 |\tSignal1:  1 |\tSignal2:  1 |\tOutput:  1\n",
      "--------------------------------------------------------------\n",
      "X1:  -1 |\tX2:  -1 |\tSignal1:  1 |\tSignal2:  -1 |\tOutput:  -1\n",
      "X1:  -1 |\tX2:  1 |\tSignal1:  1 |\tSignal2:  1 |\tOutput:  1\n",
      "X1:  1 |\tX2:  -1 |\tSignal1:  1 |\tSignal2:  1 |\tOutput:  1\n",
      "X1:  1 |\tX2:  1 |\tSignal1:  1 |\tSignal2:  1 |\tOutput:  1\n",
      "--------------------------------------------------------------\n",
      "X1:  -1 |\tX2:  -1 |\tSignal1:  1 |\tSignal2:  -1 |\tOutput:  -1\n",
      "X1:  -1 |\tX2:  1 |\tSignal1:  1 |\tSignal2:  1 |\tOutput:  1\n",
      "X1:  1 |\tX2:  -1 |\tSignal1:  1 |\tSignal2:  1 |\tOutput:  1\n",
      "X1:  1 |\tX2:  1 |\tSignal1:  1 |\tSignal2:  1 |\tOutput:  1\n",
      "--------------------------------------------------------------\n",
      "X1:  -1 |\tX2:  -1 |\tSignal1:  1 |\tSignal2:  -1 |\tOutput:  -1\n",
      "X1:  -1 |\tX2:  1 |\tSignal1:  1 |\tSignal2:  1 |\tOutput:  1\n",
      "X1:  1 |\tX2:  -1 |\tSignal1:  1 |\tSignal2:  1 |\tOutput:  1\n",
      "X1:  1 |\tX2:  1 |\tSignal1:  1 |\tSignal2:  1 |\tOutput:  1\n",
      "--------------------------------------------------------------\n",
      "X1:  -1 |\tX2:  -1 |\tSignal1:  1 |\tSignal2:  -1 |\tOutput:  -1\n",
      "X1:  -1 |\tX2:  1 |\tSignal1:  1 |\tSignal2:  1 |\tOutput:  1\n",
      "X1:  1 |\tX2:  -1 |\tSignal1:  1 |\tSignal2:  1 |\tOutput:  1\n",
      "X1:  1 |\tX2:  1 |\tSignal1:  1 |\tSignal2:  1 |\tOutput:  1\n"
     ]
    }
   ],
   "source": [
    "import numpy as np\n",
    "for _ in range(0,5):\n",
    "    print(\"--------------------------------------------------------------\")\n",
    "    for X1 in range(-1, 2, 2):\n",
    "        X1_ = X1\n",
    "        for X2 in range(-1, 2, 2):\n",
    "            X1 = X1_\n",
    "            X2_ = X2\n",
    "            X1 += np.random.uniform(-0.1, 0.1)\n",
    "            X2 += np.random.uniform(-0.1, 0.1)\n",
    "            W1 = [[-1, -1], [1, 1]]\n",
    "            W2 = [1, 1]\n",
    "            cst = 0.25\n",
    "            A = 0 \n",
    "            B = 2\n",
    "            B1 = [(B + cst), -A + cst]\n",
    "            B2 = -2\n",
    "            z = (X1 * W1[0][0] + X2 * W1[0][1] + B1[0]) \n",
    "            #print(z)\n",
    "            signal1 = 1 if (X1 * W1[0][0] + X2 * W1[0][1] + B1[0]) >= 0 else -1\n",
    "            signal2 = 1 if (X1 * W1[1][0] + X2 * W1[1][1] + B1[1]) >= 0 else -1\n",
    "            output = 1 if (signal1 * W2[0] + signal2 * W2[1] + B2) >= 0 else -1\n",
    "            print(\"X1: \", X1_, \"|\\tX2: \", X2_, \"|\\tSignal1: \", signal1, \"|\\tSignal2: \", signal2, \"|\\tOutput: \", output)"
   ]
  },
  {
   "cell_type": "markdown",
   "metadata": {},
   "source": [
    "# 3C - ReLU"
   ]
  },
  {
   "cell_type": "code",
   "execution_count": 67,
   "metadata": {},
   "outputs": [
    {
     "name": "stdout",
     "output_type": "stream",
     "text": [
      "--------------------------------------------------------------\n",
      "X1:  -1 |\tX2:  -1 |\tSignal1:  0.0 |\tSignal2:  2.8931733912343853 |\tOutput:  -1\n",
      "X1:  -1 |\tX2:  1 |\tSignal1:  0.0 |\tSignal2:  0.8100159417438418 |\tOutput:  -1\n",
      "X1:  1 |\tX2:  -1 |\tSignal1:  0.0 |\tSignal2:  0.8029233371214437 |\tOutput:  -1\n",
      "X1:  1 |\tX2:  1 |\tSignal1:  0.0 |\tSignal2:  0.0 |\tOutput:  1\n",
      "--------------------------------------------------------------\n",
      "X1:  -1 |\tX2:  -1 |\tSignal1:  0.0 |\tSignal2:  2.815281533272654 |\tOutput:  -1\n",
      "X1:  -1 |\tX2:  1 |\tSignal1:  0.0 |\tSignal2:  0.6855810432557005 |\tOutput:  -1\n",
      "X1:  1 |\tX2:  -1 |\tSignal1:  0.0 |\tSignal2:  0.7489600394253738 |\tOutput:  -1\n",
      "X1:  1 |\tX2:  1 |\tSignal1:  0.0 |\tSignal2:  0.0 |\tOutput:  1\n",
      "--------------------------------------------------------------\n",
      "X1:  -1 |\tX2:  -1 |\tSignal1:  0.0 |\tSignal2:  2.785120575413985 |\tOutput:  -1\n",
      "X1:  -1 |\tX2:  1 |\tSignal1:  0.0 |\tSignal2:  0.7263987094674522 |\tOutput:  -1\n",
      "X1:  1 |\tX2:  -1 |\tSignal1:  0.0 |\tSignal2:  0.8759581615884059 |\tOutput:  -1\n",
      "X1:  1 |\tX2:  1 |\tSignal1:  0.0 |\tSignal2:  0.0 |\tOutput:  1\n",
      "--------------------------------------------------------------\n",
      "X1:  -1 |\tX2:  -1 |\tSignal1:  0.0 |\tSignal2:  2.740323973157885 |\tOutput:  -1\n",
      "X1:  -1 |\tX2:  1 |\tSignal1:  0.0 |\tSignal2:  0.7314510223950724 |\tOutput:  -1\n",
      "X1:  1 |\tX2:  -1 |\tSignal1:  0.0 |\tSignal2:  0.8296462990120499 |\tOutput:  -1\n",
      "X1:  1 |\tX2:  1 |\tSignal1:  0.0 |\tSignal2:  0.0 |\tOutput:  1\n",
      "--------------------------------------------------------------\n",
      "X1:  -1 |\tX2:  -1 |\tSignal1:  0.0 |\tSignal2:  2.845937664676077 |\tOutput:  -1\n",
      "X1:  -1 |\tX2:  1 |\tSignal1:  0.0 |\tSignal2:  0.7452651477718082 |\tOutput:  -1\n",
      "X1:  1 |\tX2:  -1 |\tSignal1:  0.0 |\tSignal2:  0.792762345034064 |\tOutput:  -1\n",
      "X1:  1 |\tX2:  1 |\tSignal1:  0.0 |\tSignal2:  0.0 |\tOutput:  1\n"
     ]
    }
   ],
   "source": [
    "import numpy as np\n",
    "for _ in range(0,5):\n",
    "    print(\"--------------------------------------------------------------\")\n",
    "    for X1 in range(-1, 2, 2):\n",
    "        X1_ = X1\n",
    "        for X2 in range(-1, 2, 2):\n",
    "            X2_ = X2\n",
    "            X1 += np.random.uniform(-0.1, 0.1)\n",
    "            X2 += np.random.uniform(-0.1, 0.1)\n",
    "            W1 = [[1, 1], [-1, -1]]\n",
    "            W2 = [-1, -1]\n",
    "            cst = 0.25\n",
    "            A = 1\n",
    "            B = 2\n",
    "            B1 = [-(B + cst), -(-A + cst)]\n",
    "            B2 = 0\n",
    "            z1 = np.max([0, X1 * W1[0][0] + X2 * W1[0][1] + B1[0]])\n",
    "            z2 = np.max([0, X1 * W1[1][0] + X2 * W1[1][1] + B1[1]])\n",
    "            output = 1 if (z1 * W2[0] + z2 * W2[1] + B2) >= 0 else -1\n",
    "            print(\"X1: \", X1_, \"|\\tX2: \", X2_, \"|\\tSignal1: \", z1, \"|\\tSignal2: \", z2, \"|\\tOutput: \", output)"
   ]
  },
  {
   "cell_type": "code",
   "execution_count": null,
   "metadata": {},
   "outputs": [],
   "source": []
  }
 ],
 "metadata": {
  "kernelspec": {
   "display_name": "IST_DL21",
   "language": "python",
   "name": "python3"
  },
  "language_info": {
   "codemirror_mode": {
    "name": "ipython",
    "version": 3
   },
   "file_extension": ".py",
   "mimetype": "text/x-python",
   "name": "python",
   "nbconvert_exporter": "python",
   "pygments_lexer": "ipython3",
   "version": "3.8.18"
  }
 },
 "nbformat": 4,
 "nbformat_minor": 2
}
